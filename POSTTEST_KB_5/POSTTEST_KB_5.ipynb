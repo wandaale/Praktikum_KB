{
 "cells": [
  {
   "cell_type": "markdown",
   "id": "013fea9b-ec12-46a2-b019-8cdd8de09b75",
   "metadata": {},
   "source": [
    "# POSTTEST 5\n",
    "\n",
    "## WANDA NURHALIZA\n",
    "## 2109106055"
   ]
  },
  {
   "cell_type": "markdown",
   "id": "8623985f-dc0a-4bdf-8d6f-c6261cb391f4",
   "metadata": {},
   "source": [
    "## IMPORT LIBRARY"
   ]
  },
  {
   "cell_type": "code",
   "execution_count": 1,
   "id": "a611b01b-dc82-4f23-853a-ecc36ed6d6ca",
   "metadata": {},
   "outputs": [],
   "source": [
    "import pandas as pd\n",
    "import seaborn as sns"
   ]
  },
  {
   "cell_type": "markdown",
   "id": "643fc477-72d3-4c1c-8a32-4608f359d14f",
   "metadata": {},
   "source": [
    "## MEMBACA FILE CSV DAN MENAMPILKAN INFORMASI DARI DATASET"
   ]
  },
  {
   "cell_type": "code",
   "execution_count": 2,
   "id": "6c9c65ff-3081-49dd-a593-1281d6a76be8",
   "metadata": {},
   "outputs": [
    {
     "name": "stdout",
     "output_type": "stream",
     "text": [
      "<class 'pandas.core.frame.DataFrame'>\n",
      "RangeIndex: 3642 entries, 0 to 3641\n",
      "Data columns (total 7 columns):\n",
      " #   Column       Non-Null Count  Dtype  \n",
      "---  ------       --------------  -----  \n",
      " 0   Vmag         3642 non-null   float64\n",
      " 1   Plx          3642 non-null   float64\n",
      " 2   e_Plx        3642 non-null   float64\n",
      " 3   B-V          3642 non-null   float64\n",
      " 4   SpType       3642 non-null   object \n",
      " 5   Amag         3642 non-null   float64\n",
      " 6   TargetClass  3642 non-null   int64  \n",
      "dtypes: float64(5), int64(1), object(1)\n",
      "memory usage: 199.3+ KB\n"
     ]
    }
   ],
   "source": [
    "df = pd.read_csv(\"Star3642_balanced.csv\")\n",
    "\n",
    "df.info()"
   ]
  },
  {
   "cell_type": "code",
   "execution_count": 3,
   "id": "05bae786-916a-4b11-8799-9676abd5f580",
   "metadata": {},
   "outputs": [
    {
     "data": {
      "text/html": [
       "<div>\n",
       "<style scoped>\n",
       "    .dataframe tbody tr th:only-of-type {\n",
       "        vertical-align: middle;\n",
       "    }\n",
       "\n",
       "    .dataframe tbody tr th {\n",
       "        vertical-align: top;\n",
       "    }\n",
       "\n",
       "    .dataframe thead th {\n",
       "        text-align: right;\n",
       "    }\n",
       "</style>\n",
       "<table border=\"1\" class=\"dataframe\">\n",
       "  <thead>\n",
       "    <tr style=\"text-align: right;\">\n",
       "      <th></th>\n",
       "      <th>Vmag</th>\n",
       "      <th>Plx</th>\n",
       "      <th>e_Plx</th>\n",
       "      <th>B-V</th>\n",
       "      <th>SpType</th>\n",
       "      <th>Amag</th>\n",
       "      <th>TargetClass</th>\n",
       "    </tr>\n",
       "  </thead>\n",
       "  <tbody>\n",
       "    <tr>\n",
       "      <th>0</th>\n",
       "      <td>5.99</td>\n",
       "      <td>13.73</td>\n",
       "      <td>0.58</td>\n",
       "      <td>1.318</td>\n",
       "      <td>K5III</td>\n",
       "      <td>16.678352</td>\n",
       "      <td>0</td>\n",
       "    </tr>\n",
       "    <tr>\n",
       "      <th>1</th>\n",
       "      <td>8.70</td>\n",
       "      <td>2.31</td>\n",
       "      <td>1.29</td>\n",
       "      <td>-0.045</td>\n",
       "      <td>B1II</td>\n",
       "      <td>15.518060</td>\n",
       "      <td>0</td>\n",
       "    </tr>\n",
       "    <tr>\n",
       "      <th>2</th>\n",
       "      <td>5.77</td>\n",
       "      <td>5.50</td>\n",
       "      <td>1.03</td>\n",
       "      <td>0.855</td>\n",
       "      <td>G5III</td>\n",
       "      <td>14.471813</td>\n",
       "      <td>0</td>\n",
       "    </tr>\n",
       "    <tr>\n",
       "      <th>3</th>\n",
       "      <td>6.72</td>\n",
       "      <td>5.26</td>\n",
       "      <td>0.74</td>\n",
       "      <td>-0.015</td>\n",
       "      <td>B7V</td>\n",
       "      <td>15.324928</td>\n",
       "      <td>1</td>\n",
       "    </tr>\n",
       "    <tr>\n",
       "      <th>4</th>\n",
       "      <td>8.76</td>\n",
       "      <td>13.44</td>\n",
       "      <td>1.16</td>\n",
       "      <td>0.584</td>\n",
       "      <td>G0V</td>\n",
       "      <td>19.401997</td>\n",
       "      <td>1</td>\n",
       "    </tr>\n",
       "  </tbody>\n",
       "</table>\n",
       "</div>"
      ],
      "text/plain": [
       "   Vmag    Plx  e_Plx    B-V SpType       Amag  TargetClass\n",
       "0  5.99  13.73   0.58  1.318  K5III  16.678352            0\n",
       "1  8.70   2.31   1.29 -0.045   B1II  15.518060            0\n",
       "2  5.77   5.50   1.03  0.855  G5III  14.471813            0\n",
       "3  6.72   5.26   0.74 -0.015    B7V  15.324928            1\n",
       "4  8.76  13.44   1.16  0.584    G0V  19.401997            1"
      ]
     },
     "execution_count": 3,
     "metadata": {},
     "output_type": "execute_result"
    }
   ],
   "source": [
    "df.head()"
   ]
  },
  {
   "cell_type": "markdown",
   "id": "b65e768f-353b-4922-8595-051fb92932f3",
   "metadata": {},
   "source": [
    "##### KETERANGAN :\n",
    "###### Vmag = Ukuran Bintang secara Visual\n",
    "###### Plx = Jarak Antara Bintang dan Bumi\n",
    "###### e-Plx = Kesalahan Standar Plx\n",
    "###### B-V = Indeks Warna (Bintang panas memiliki indeks warna B-V mendekati 0 atau negatif, sedangkan bintang dingin memiliki indeks warna B-V mendekati 2,0)\n",
    "###### SpType = Tipe Spektral\n",
    "###### AmaG = Ukuran Bintang secara Mutlak\n",
    "###### TargetClass = Yang Menentukan Ukuran Bintang (Kecil = 0 dan Besar = 1)\n",
    "#####"
   ]
  },
  {
   "cell_type": "code",
   "execution_count": 4,
   "id": "df0ddb23-f8f6-4add-9efd-dbfd67e39b4b",
   "metadata": {},
   "outputs": [
    {
     "data": {
      "text/plain": [
       "array([0, 1], dtype=int64)"
      ]
     },
     "execution_count": 4,
     "metadata": {},
     "output_type": "execute_result"
    }
   ],
   "source": [
    "df['TargetClass'].unique()"
   ]
  },
  {
   "cell_type": "markdown",
   "id": "f70ef5e0-c541-425d-80aa-ce3ad5d7c129",
   "metadata": {},
   "source": [
    "## DATA SPLITTING"
   ]
  },
  {
   "cell_type": "code",
   "execution_count": 5,
   "id": "02f63c63-5332-4053-b125-a18b8d1e0f24",
   "metadata": {},
   "outputs": [],
   "source": [
    "X = df[['Vmag', 'Plx', 'e_Plx', 'B-V', 'Amag']]\n",
    "Y = df['TargetClass']"
   ]
  },
  {
   "cell_type": "code",
   "execution_count": 6,
   "id": "703cbe70-977a-4b3f-a90b-2b92b3ce4153",
   "metadata": {},
   "outputs": [],
   "source": [
    "from sklearn.model_selection import train_test_split"
   ]
  },
  {
   "cell_type": "code",
   "execution_count": 7,
   "id": "d39c2133-091c-44fc-8e22-0badfb9a204b",
   "metadata": {},
   "outputs": [],
   "source": [
    "X_train, X_test, Y_train, Y_test = train_test_split(X, Y, test_size = 0.2, random_state = 0)"
   ]
  },
  {
   "cell_type": "markdown",
   "id": "bea76f55-4937-410e-83d6-0e6520407c20",
   "metadata": {},
   "source": [
    "## ALGORITMA SUPERVISED LEARNING"
   ]
  },
  {
   "cell_type": "markdown",
   "id": "b736fd7b-a76f-4c3a-a3c4-ef0fe8694cd6",
   "metadata": {},
   "source": [
    "### 1. K-NEAREST NEIGHBOUR (KNN)"
   ]
  },
  {
   "cell_type": "code",
   "execution_count": 8,
   "id": "e7abb88b-73a2-4263-acbf-726023d5f8cf",
   "metadata": {},
   "outputs": [],
   "source": [
    "from sklearn.neighbors import KNeighborsClassifier"
   ]
  },
  {
   "cell_type": "code",
   "execution_count": 9,
   "id": "cdb05f62-a116-43d1-a094-457ffb0eabef",
   "metadata": {},
   "outputs": [],
   "source": [
    "KNN = KNeighborsClassifier (n_neighbors = 5)"
   ]
  },
  {
   "cell_type": "code",
   "execution_count": 10,
   "id": "45771a06-1f53-4d01-900b-8b7ce223ae3f",
   "metadata": {},
   "outputs": [
    {
     "data": {
      "text/html": [
       "<style>#sk-container-id-1 {color: black;background-color: white;}#sk-container-id-1 pre{padding: 0;}#sk-container-id-1 div.sk-toggleable {background-color: white;}#sk-container-id-1 label.sk-toggleable__label {cursor: pointer;display: block;width: 100%;margin-bottom: 0;padding: 0.3em;box-sizing: border-box;text-align: center;}#sk-container-id-1 label.sk-toggleable__label-arrow:before {content: \"▸\";float: left;margin-right: 0.25em;color: #696969;}#sk-container-id-1 label.sk-toggleable__label-arrow:hover:before {color: black;}#sk-container-id-1 div.sk-estimator:hover label.sk-toggleable__label-arrow:before {color: black;}#sk-container-id-1 div.sk-toggleable__content {max-height: 0;max-width: 0;overflow: hidden;text-align: left;background-color: #f0f8ff;}#sk-container-id-1 div.sk-toggleable__content pre {margin: 0.2em;color: black;border-radius: 0.25em;background-color: #f0f8ff;}#sk-container-id-1 input.sk-toggleable__control:checked~div.sk-toggleable__content {max-height: 200px;max-width: 100%;overflow: auto;}#sk-container-id-1 input.sk-toggleable__control:checked~label.sk-toggleable__label-arrow:before {content: \"▾\";}#sk-container-id-1 div.sk-estimator input.sk-toggleable__control:checked~label.sk-toggleable__label {background-color: #d4ebff;}#sk-container-id-1 div.sk-label input.sk-toggleable__control:checked~label.sk-toggleable__label {background-color: #d4ebff;}#sk-container-id-1 input.sk-hidden--visually {border: 0;clip: rect(1px 1px 1px 1px);clip: rect(1px, 1px, 1px, 1px);height: 1px;margin: -1px;overflow: hidden;padding: 0;position: absolute;width: 1px;}#sk-container-id-1 div.sk-estimator {font-family: monospace;background-color: #f0f8ff;border: 1px dotted black;border-radius: 0.25em;box-sizing: border-box;margin-bottom: 0.5em;}#sk-container-id-1 div.sk-estimator:hover {background-color: #d4ebff;}#sk-container-id-1 div.sk-parallel-item::after {content: \"\";width: 100%;border-bottom: 1px solid gray;flex-grow: 1;}#sk-container-id-1 div.sk-label:hover label.sk-toggleable__label {background-color: #d4ebff;}#sk-container-id-1 div.sk-serial::before {content: \"\";position: absolute;border-left: 1px solid gray;box-sizing: border-box;top: 0;bottom: 0;left: 50%;z-index: 0;}#sk-container-id-1 div.sk-serial {display: flex;flex-direction: column;align-items: center;background-color: white;padding-right: 0.2em;padding-left: 0.2em;position: relative;}#sk-container-id-1 div.sk-item {position: relative;z-index: 1;}#sk-container-id-1 div.sk-parallel {display: flex;align-items: stretch;justify-content: center;background-color: white;position: relative;}#sk-container-id-1 div.sk-item::before, #sk-container-id-1 div.sk-parallel-item::before {content: \"\";position: absolute;border-left: 1px solid gray;box-sizing: border-box;top: 0;bottom: 0;left: 50%;z-index: -1;}#sk-container-id-1 div.sk-parallel-item {display: flex;flex-direction: column;z-index: 1;position: relative;background-color: white;}#sk-container-id-1 div.sk-parallel-item:first-child::after {align-self: flex-end;width: 50%;}#sk-container-id-1 div.sk-parallel-item:last-child::after {align-self: flex-start;width: 50%;}#sk-container-id-1 div.sk-parallel-item:only-child::after {width: 0;}#sk-container-id-1 div.sk-dashed-wrapped {border: 1px dashed gray;margin: 0 0.4em 0.5em 0.4em;box-sizing: border-box;padding-bottom: 0.4em;background-color: white;}#sk-container-id-1 div.sk-label label {font-family: monospace;font-weight: bold;display: inline-block;line-height: 1.2em;}#sk-container-id-1 div.sk-label-container {text-align: center;}#sk-container-id-1 div.sk-container {/* jupyter's `normalize.less` sets `[hidden] { display: none; }` but bootstrap.min.css set `[hidden] { display: none !important; }` so we also need the `!important` here to be able to override the default hidden behavior on the sphinx rendered scikit-learn.org. See: https://github.com/scikit-learn/scikit-learn/issues/21755 */display: inline-block !important;position: relative;}#sk-container-id-1 div.sk-text-repr-fallback {display: none;}</style><div id=\"sk-container-id-1\" class=\"sk-top-container\"><div class=\"sk-text-repr-fallback\"><pre>KNeighborsClassifier()</pre><b>In a Jupyter environment, please rerun this cell to show the HTML representation or trust the notebook. <br />On GitHub, the HTML representation is unable to render, please try loading this page with nbviewer.org.</b></div><div class=\"sk-container\" hidden><div class=\"sk-item\"><div class=\"sk-estimator sk-toggleable\"><input class=\"sk-toggleable__control sk-hidden--visually\" id=\"sk-estimator-id-1\" type=\"checkbox\" checked><label for=\"sk-estimator-id-1\" class=\"sk-toggleable__label sk-toggleable__label-arrow\">KNeighborsClassifier</label><div class=\"sk-toggleable__content\"><pre>KNeighborsClassifier()</pre></div></div></div></div></div>"
      ],
      "text/plain": [
       "KNeighborsClassifier()"
      ]
     },
     "execution_count": 10,
     "metadata": {},
     "output_type": "execute_result"
    }
   ],
   "source": [
    "KNN.fit(X_train, Y_train)"
   ]
  },
  {
   "cell_type": "code",
   "execution_count": 11,
   "id": "bdaaca8e-c43f-47e8-96a1-ccc9b2e2adf3",
   "metadata": {},
   "outputs": [
    {
     "name": "stdout",
     "output_type": "stream",
     "text": [
      "Akurasi Training Menggunakan KNN : 0.904565739787161\n",
      "Akurasi Testing  Menggunakan KNN : 0.8710562414266118\n"
     ]
    }
   ],
   "source": [
    "print(f'Akurasi Training Menggunakan KNN : {KNN.score(X_train, Y_train)}')\n",
    "print(f'Akurasi Testing  Menggunakan KNN : {KNN.score(X_test, Y_test)}')"
   ]
  },
  {
   "cell_type": "code",
   "execution_count": 12,
   "id": "7cd6ee7d-408e-4755-8174-4f0303b831f0",
   "metadata": {},
   "outputs": [
    {
     "name": "stderr",
     "output_type": "stream",
     "text": [
      "C:\\Users\\ASUS\\AppData\\Local\\Programs\\Python\\Python310\\lib\\site-packages\\sklearn\\base.py:450: UserWarning: X does not have valid feature names, but KNeighborsClassifier was fitted with feature names\n",
      "  warnings.warn(\n"
     ]
    },
    {
     "data": {
      "text/plain": [
       "array([1], dtype=int64)"
      ]
     },
     "execution_count": 12,
     "metadata": {},
     "output_type": "execute_result"
    }
   ],
   "source": [
    "star = [[7.64, 12.6, 1.04, 0.940, 20.2341051]]\n",
    "KNN.predict(star)"
   ]
  },
  {
   "cell_type": "markdown",
   "id": "75d9c3dd-c7b5-4771-8a12-3bb60b287433",
   "metadata": {},
   "source": [
    "### 2. DECISION TREE"
   ]
  },
  {
   "cell_type": "code",
   "execution_count": 13,
   "id": "682d4b12-7da0-457c-afa7-86e090245e12",
   "metadata": {},
   "outputs": [],
   "source": [
    "from sklearn.tree import DecisionTreeClassifier"
   ]
  },
  {
   "cell_type": "code",
   "execution_count": 14,
   "id": "3208729a-0b88-43b2-9bc8-8752499fa408",
   "metadata": {},
   "outputs": [],
   "source": [
    "DT = DecisionTreeClassifier().fit(X_train, Y_train)"
   ]
  },
  {
   "cell_type": "code",
   "execution_count": 15,
   "id": "2c156a4e-6aef-4641-96f2-2d27a0f032ed",
   "metadata": {},
   "outputs": [
    {
     "name": "stdout",
     "output_type": "stream",
     "text": [
      "Akurasi Training Menggunakan Decision Tree : 1.0\n",
      "Akurasi Testing  Menggunakan Decision Tree : 0.8326474622770919\n"
     ]
    }
   ],
   "source": [
    "print(f'Akurasi Training Menggunakan Decision Tree : {DT.score(X_train, Y_train)}') \n",
    "print(f'Akurasi Testing  Menggunakan Decision Tree : {DT.score(X_test, Y_test)}') "
   ]
  },
  {
   "cell_type": "code",
   "execution_count": 16,
   "id": "92987dd0-2bea-46a1-a370-4120fa65c6b9",
   "metadata": {},
   "outputs": [
    {
     "name": "stderr",
     "output_type": "stream",
     "text": [
      "C:\\Users\\ASUS\\AppData\\Local\\Programs\\Python\\Python310\\lib\\site-packages\\sklearn\\base.py:450: UserWarning: X does not have valid feature names, but DecisionTreeClassifier was fitted with feature names\n",
      "  warnings.warn(\n"
     ]
    },
    {
     "data": {
      "text/plain": [
       "array([1], dtype=int64)"
      ]
     },
     "execution_count": 16,
     "metadata": {},
     "output_type": "execute_result"
    }
   ],
   "source": [
    "star = [[7.64, 12.6, 1.04, 0.940, 20.2341051]]\n",
    "DT.predict(star)"
   ]
  },
  {
   "cell_type": "markdown",
   "id": "c16f4a8f-a067-42fe-95a3-bbb3389fedc6",
   "metadata": {},
   "source": [
    "### 3. LINEAR REGRESSION"
   ]
  },
  {
   "cell_type": "code",
   "execution_count": 17,
   "id": "12356ddc-265a-4d77-8cf0-93f7d571e9d1",
   "metadata": {},
   "outputs": [],
   "source": [
    "import matplotlib.pyplot as plt\n",
    "from sklearn.linear_model import LinearRegression"
   ]
  },
  {
   "cell_type": "code",
   "execution_count": 18,
   "id": "7d646047-9e62-4088-9abf-e7407f504cf6",
   "metadata": {},
   "outputs": [],
   "source": [
    "x = df[['Amag']] # PREDICTOR\n",
    "y = df[['Vmag']] # TARGET"
   ]
  },
  {
   "cell_type": "code",
   "execution_count": 19,
   "id": "6273c77f-615a-4157-9eb4-9ffe3763c30b",
   "metadata": {},
   "outputs": [],
   "source": [
    "x_train, x_test, y_train, y_test = train_test_split(x, y, test_size = 0.2, random_state = 0)"
   ]
  },
  {
   "cell_type": "code",
   "execution_count": 20,
   "id": "9ce7a354-9492-4caf-aabe-1d1e145c6bff",
   "metadata": {},
   "outputs": [],
   "source": [
    "LR = LinearRegression().fit(x_train, y_train)"
   ]
  },
  {
   "cell_type": "code",
   "execution_count": 21,
   "id": "9f70c56a-319d-4f60-9402-d799dbfff10b",
   "metadata": {},
   "outputs": [],
   "source": [
    "LR_predict = LR.predict(x_test)"
   ]
  },
  {
   "cell_type": "code",
   "execution_count": 22,
   "id": "eedf66b2-a969-41b9-9609-f980a165033a",
   "metadata": {},
   "outputs": [
    {
     "data": {
      "image/png": "[encoded data removed]",
      "text/plain": [
       "<Figure size 640x480 with 1 Axes>"
      ]
     },
     "metadata": {},
     "output_type": "display_data"
    }
   ],
   "source": [
    "plt.scatter(x_test, y_test, color = \"red\", label = \"Nilai Aktual\")\n",
    "plt.plot(x_test, LR_predict, color = \"green\", label = \"Nilai Prediksi\")\n",
    "plt.xlabel(\"Amag\")\n",
    "plt.ylabel(\"Vmag\")\n",
    "plt.legend()\n",
    "plt.show()"
   ]
  },
  {
   "cell_type": "markdown",
   "id": "8c1f4c23-b68c-4af5-b1d9-b08f4bf718b2",
   "metadata": {},
   "source": [
    "### 4. NAIVE BAYES"
   ]
  },
  {
   "cell_type": "code",
   "execution_count": 23,
   "id": "462cb315-3bb2-44f5-8f89-b3ab8ca2f1bc",
   "metadata": {},
   "outputs": [],
   "source": [
    "from sklearn.naive_bayes import GaussianNB\n",
    "from sklearn.metrics import accuracy_score"
   ]
  },
  {
   "cell_type": "code",
   "execution_count": 24,
   "id": "a998029f-78ec-40b5-9c31-e06aa7109d50",
   "metadata": {},
   "outputs": [],
   "source": [
    "GNB = GaussianNB().fit(X_train, Y_train)"
   ]
  },
  {
   "cell_type": "code",
   "execution_count": 25,
   "id": "679102c5-0377-49a1-9fe3-1c1a16c3a453",
   "metadata": {},
   "outputs": [],
   "source": [
    "GNB_predict = GNB.predict(X_test)"
   ]
  },
  {
   "cell_type": "code",
   "execution_count": 26,
   "id": "fad6c384-0285-43a3-9cd3-e4770a47e55c",
   "metadata": {},
   "outputs": [
    {
     "name": "stdout",
     "output_type": "stream",
     "text": [
      "Akurasi Training Menggunakan GNB : 0.8657741160315826\n",
      "Akurasi Testing  Menggunakan GNB : 0.8573388203017832\n"
     ]
    }
   ],
   "source": [
    "print(f'Akurasi Training Menggunakan GNB : {GNB.score(X_train, Y_train)}') \n",
    "print(f'Akurasi Testing  Menggunakan GNB : {GNB.score(X_test, Y_test)}') "
   ]
  },
  {
   "cell_type": "markdown",
   "id": "43a491cb-771e-467c-9a64-1197c7da386e",
   "metadata": {},
   "source": [
    "### 5. SUPPORT VECTOR MACHINE (SVM)"
   ]
  },
  {
   "cell_type": "code",
   "execution_count": 27,
   "id": "04c5f835-f2ba-436e-96d7-51ba365b8275",
   "metadata": {},
   "outputs": [],
   "source": [
    "from sklearn.svm import SVC"
   ]
  },
  {
   "cell_type": "code",
   "execution_count": 28,
   "id": "0325cc23-fb5a-4896-850b-7e3c543ce6df",
   "metadata": {},
   "outputs": [],
   "source": [
    "SVM = SVC().fit(X_train, Y_train)\n",
    "SVM_predict = SVM.predict(X_test)"
   ]
  },
  {
   "cell_type": "code",
   "execution_count": 29,
   "id": "afa7cbb1-e3a1-4c23-afbe-2721c40babad",
   "metadata": {},
   "outputs": [
    {
     "name": "stdout",
     "output_type": "stream",
     "text": [
      "Akurasi Training Menggunakan SVM : 0.8853415722622726\n",
      "Akurasi Testing  Menggunakan SVM : 0.8834019204389575\n"
     ]
    }
   ],
   "source": [
    "print(f'Akurasi Training Menggunakan SVM : {SVM.score(X_train, Y_train)}') \n",
    "print(f'Akurasi Testing  Menggunakan SVM : {SVM.score(X_test, Y_test)}') "
   ]
  },
  {
   "cell_type": "markdown",
   "id": "08607085-6050-49cd-9964-7799d858ae42",
   "metadata": {},
   "source": [
    "## PERBANDINGAN SCORE/HASIL DARI BEBERAPA ALGORITMA"
   ]
  },
  {
   "cell_type": "code",
   "execution_count": 30,
   "id": "da04dce9-0b58-4a4e-a509-b45e89efc8f2",
   "metadata": {},
   "outputs": [
    {
     "name": "stdout",
     "output_type": "stream",
     "text": [
      "\n",
      "\n",
      "=================================================================\n",
      "                       PERBANDINGAN SCORE                        \n",
      "=================================================================\n",
      "\n",
      "\n",
      "---------------------- K-NEAREST NEIGHBOUR ----------------------\n",
      "Akurasi Training Menggunakan KNN : 0.904565739787161\n",
      "Akurasi Testing  Menggunakan KNN : 0.8710562414266118\n",
      "\n",
      "\n",
      "------------------------- DESICION TREE -------------------------\n",
      "Akurasi Training Menggunakan Decision Tree : 1.0\n",
      "Akurasi Testing  Menggunakan Decision Tree : 0.8326474622770919\n",
      "\n",
      "\n",
      "-------------------------- NAIVE BAYES --------------------------\n",
      "Akurasi Training Menggunakan GNB : 0.8657741160315826\n",
      "Akurasi Testing  Menggunakan GNB : 0.8573388203017832\n",
      "\n",
      "\n",
      "--------------------- SUPPORT VECTOR MACHINE --------------------\n",
      "Akurasi Training Menggunakan SVM : 0.8853415722622726\n",
      "Akurasi Testing  Menggunakan SVM : 0.8834019204389575\n",
      "\n",
      "\n"
     ]
    }
   ],
   "source": [
    "print(\"\\n\")\n",
    "print(\"=================================================================\")\n",
    "print(\"                       PERBANDINGAN SCORE                        \")\n",
    "print(\"=================================================================\")\n",
    "print(\"\\n\")\n",
    "print(\"---------------------- K-NEAREST NEIGHBOUR ----------------------\")\n",
    "print(f'Akurasi Training Menggunakan KNN : {KNN.score(X_train, Y_train)}')\n",
    "print(f'Akurasi Testing  Menggunakan KNN : {KNN.score(X_test, Y_test)}')\n",
    "print(\"\\n\")\n",
    "print(\"------------------------- DESICION TREE -------------------------\")\n",
    "print(f'Akurasi Training Menggunakan Decision Tree : {DT.score(X_train, Y_train)}') \n",
    "print(f'Akurasi Testing  Menggunakan Decision Tree : {DT.score(X_test, Y_test)}') \n",
    "print(\"\\n\")\n",
    "print(\"-------------------------- NAIVE BAYES --------------------------\")\n",
    "print(f'Akurasi Training Menggunakan GNB : {GNB.score(X_train, Y_train)}') \n",
    "print(f'Akurasi Testing  Menggunakan GNB : {GNB.score(X_test, Y_test)}') \n",
    "print(\"\\n\")\n",
    "print(\"--------------------- SUPPORT VECTOR MACHINE --------------------\")\n",
    "print(f'Akurasi Training Menggunakan SVM : {SVM.score(X_train, Y_train)}') \n",
    "print(f'Akurasi Testing  Menggunakan SVM : {SVM.score(X_test, Y_test)}')\n",
    "print(\"\\n\")"
   ]
  },
  {
   "cell_type": "markdown",
   "id": "66ae32ea-2f20-4a38-ab10-0173166ebbc2",
   "metadata": {},
   "source": [
    "#### KESIMPULAN :\n",
    "##### Berdasarkan perbandingan score/hasil dari beberapa algoritma, dapat disimpulkan bahwa algoritma yang paling efektif adalah Desicion Tree"
   ]
  },
  {
   "cell_type": "markdown",
   "id": "c3147dad-8ab8-4f01-939e-953b9105ed2d",
   "metadata": {},
   "source": [
    "## EVALUASI"
   ]
  },
  {
   "cell_type": "markdown",
   "id": "6e7f8f04-d247-4de7-ad6b-5e35593b5346",
   "metadata": {},
   "source": [
    "### CONFUSION MATRIX"
   ]
  },
  {
   "cell_type": "code",
   "execution_count": 31,
   "id": "238115f9-5fb7-41ef-b29c-6ce2b97db580",
   "metadata": {},
   "outputs": [],
   "source": [
    "from sklearn.metrics import confusion_matrix, ConfusionMatrixDisplay"
   ]
  },
  {
   "cell_type": "markdown",
   "id": "1253bce5-8ee5-4f97-bf36-9322b2141be6",
   "metadata": {},
   "source": [
    "#### VISUALISASI CONFUSION MATRIX K-NEAREST NEIGHBOUR"
   ]
  },
  {
   "cell_type": "code",
   "execution_count": 32,
   "id": "a129f6b2-9985-4c57-91c3-1937209bfec8",
   "metadata": {},
   "outputs": [],
   "source": [
    "CM_predict = KNN.predict(X_test)"
   ]
  },
  {
   "cell_type": "code",
   "execution_count": 33,
   "id": "027eb30f-4577-4098-8cd0-334acce57515",
   "metadata": {},
   "outputs": [
    {
     "data": {
      "text/plain": [
       "array([[321,  49],\n",
       "       [ 45, 314]], dtype=int64)"
      ]
     },
     "execution_count": 33,
     "metadata": {},
     "output_type": "execute_result"
    }
   ],
   "source": [
    "CM = confusion_matrix(Y_test, CM_predict)\n",
    "CM"
   ]
  },
  {
   "cell_type": "code",
   "execution_count": 34,
   "id": "102e38ee-879d-4abb-b962-dcd294121fd0",
   "metadata": {},
   "outputs": [
    {
     "data": {
      "image/png": "[encoded data removed]",
      "text/plain": [
       "<Figure size 640x480 with 2 Axes>"
      ]
     },
     "metadata": {},
     "output_type": "display_data"
    }
   ],
   "source": [
    "DCM = ConfusionMatrixDisplay(confusion_matrix = CM, display_labels = KNN.classes_)\n",
    "DCM.plot()\n",
    "plt.grid(False)\n",
    "plt.show()"
   ]
  },
  {
   "cell_type": "markdown",
   "id": "0ef74905-48a5-45bb-8dbe-6328f080d9d8",
   "metadata": {},
   "source": [
    "#### VISUALISASI CONFUSION MATRIX DECISION TREE"
   ]
  },
  {
   "cell_type": "code",
   "execution_count": 35,
   "id": "f5ca9f2c-a205-420b-8b1d-4478c37d2309",
   "metadata": {},
   "outputs": [],
   "source": [
    "CM_predict2 = DT.predict(X_test)"
   ]
  },
  {
   "cell_type": "code",
   "execution_count": 36,
   "id": "2fe8200f-5c39-491e-b517-a2dfb475b10d",
   "metadata": {},
   "outputs": [
    {
     "data": {
      "text/plain": [
       "array([[299,  71],\n",
       "       [ 51, 308]], dtype=int64)"
      ]
     },
     "execution_count": 36,
     "metadata": {},
     "output_type": "execute_result"
    }
   ],
   "source": [
    "CM2 = confusion_matrix(Y_test, CM_predict2)\n",
    "CM2"
   ]
  },
  {
   "cell_type": "code",
   "execution_count": 37,
   "id": "168ad260-9a89-46be-b215-93ee3df22b66",
   "metadata": {},
   "outputs": [
    {
     "data": {
      "image/png": "[encoded data removed]",
      "text/plain": [
       "<Figure size 640x480 with 2 Axes>"
      ]
     },
     "metadata": {},
     "output_type": "display_data"
    }
   ],
   "source": [
    "DCM2 = ConfusionMatrixDisplay(confusion_matrix = CM2, display_labels = DT.classes_)\n",
    "DCM2.plot()\n",
    "plt.grid(False)\n",
    "plt.show()"
   ]
  },
  {
   "cell_type": "markdown",
   "id": "9672deb5-b7ef-4309-bc3c-a1d2f3ab54df",
   "metadata": {},
   "source": [
    "#### VISUALISASI CONFUSION MATRIX NAIVE BAYES"
   ]
  },
  {
   "cell_type": "code",
   "execution_count": 38,
   "id": "429cb18b-a7e5-4a83-964e-731216e02ab8",
   "metadata": {},
   "outputs": [],
   "source": [
    "CM_predict3 = GNB.predict(X_test)"
   ]
  },
  {
   "cell_type": "code",
   "execution_count": 39,
   "id": "b3f1f238-8cc2-4e22-835f-90f99a08ee44",
   "metadata": {},
   "outputs": [
    {
     "data": {
      "text/plain": [
       "array([[340,  30],\n",
       "       [ 74, 285]], dtype=int64)"
      ]
     },
     "execution_count": 39,
     "metadata": {},
     "output_type": "execute_result"
    }
   ],
   "source": [
    "CM3 = confusion_matrix(Y_test, CM_predict3)\n",
    "CM3"
   ]
  },
  {
   "cell_type": "code",
   "execution_count": 40,
   "id": "5798bd55-487d-44e6-b451-937cdb48f33c",
   "metadata": {},
   "outputs": [
    {
     "data": {
      "image/png": "[encoded data removed]",
      "text/plain": [
       "<Figure size 640x480 with 2 Axes>"
      ]
     },
     "metadata": {},
     "output_type": "display_data"
    }
   ],
   "source": [
    "DCM3 = ConfusionMatrixDisplay(confusion_matrix = CM3, display_labels = GNB.classes_)\n",
    "DCM3.plot()\n",
    "plt.grid(False)\n",
    "plt.show()"
   ]
  },
  {
   "cell_type": "markdown",
   "id": "4f2c71ef-f4a5-452d-b6ca-6ded59d696ed",
   "metadata": {},
   "source": [
    "#### VISUALISASI CONFUSION MATRIX SUPPORT VECTOR MACHINE"
   ]
  },
  {
   "cell_type": "code",
   "execution_count": 41,
   "id": "498b0238-def2-46f3-8b05-c49083e0eaca",
   "metadata": {},
   "outputs": [],
   "source": [
    "CM_predict4 = SVM.predict(X_test)"
   ]
  },
  {
   "cell_type": "code",
   "execution_count": 42,
   "id": "7713852a-47f5-42a2-aed9-b3b3abdd1aaf",
   "metadata": {},
   "outputs": [
    {
     "data": {
      "text/plain": [
       "array([[331,  39],\n",
       "       [ 46, 313]], dtype=int64)"
      ]
     },
     "execution_count": 42,
     "metadata": {},
     "output_type": "execute_result"
    }
   ],
   "source": [
    "CM4 = confusion_matrix(Y_test, CM_predict4)\n",
    "CM4"
   ]
  },
  {
   "cell_type": "code",
   "execution_count": 43,
   "id": "45335d68-16d5-4a72-b376-0b62e54f9082",
   "metadata": {},
   "outputs": [
    {
     "data": {
      "image/png": "[encoded data removed]",
      "text/plain": [
       "<Figure size 640x480 with 2 Axes>"
      ]
     },
     "metadata": {},
     "output_type": "display_data"
    }
   ],
   "source": [
    "DCM4 = ConfusionMatrixDisplay(confusion_matrix = CM4, display_labels = SVM.classes_)\n",
    "DCM4.plot()\n",
    "plt.grid(False)\n",
    "plt.show()"
   ]
  },
  {
   "cell_type": "markdown",
   "id": "c3a5d0c2-38b4-4d4c-a454-2fe704490984",
   "metadata": {},
   "source": [
    "## TAMPILAN SCORE/HASIL DARI MODEL - MODEL UNTUK CLASSIFICATION"
   ]
  },
  {
   "cell_type": "code",
   "execution_count": 44,
   "id": "ab0725d6-d809-4ec5-a407-10a8ef491dbe",
   "metadata": {},
   "outputs": [],
   "source": [
    "from sklearn.metrics import classification_report"
   ]
  },
  {
   "cell_type": "code",
   "execution_count": 45,
   "id": "5dcb1297-d642-4a2c-b666-4dc6c8e96b69",
   "metadata": {},
   "outputs": [
    {
     "name": "stdout",
     "output_type": "stream",
     "text": [
      "\n",
      "\n",
      "=======================================================\n",
      "                 CLASSIFICATION REPORT                 \n",
      "=======================================================\n",
      "\n",
      "\n",
      "----------------- K-NEAREST NEIGHBOUR -----------------\n",
      "              precision    recall  f1-score   support\n",
      "\n",
      "           0       0.88      0.87      0.87       370\n",
      "           1       0.87      0.87      0.87       359\n",
      "\n",
      "    accuracy                           0.87       729\n",
      "   macro avg       0.87      0.87      0.87       729\n",
      "weighted avg       0.87      0.87      0.87       729\n",
      "\n",
      "\n",
      "\n",
      "-------------------- DESICION TREE --------------------\n",
      "              precision    recall  f1-score   support\n",
      "\n",
      "           0       0.85      0.81      0.83       370\n",
      "           1       0.81      0.86      0.83       359\n",
      "\n",
      "    accuracy                           0.83       729\n",
      "   macro avg       0.83      0.83      0.83       729\n",
      "weighted avg       0.83      0.83      0.83       729\n",
      "\n",
      "\n",
      "\n",
      "--------------------- NAIVE BAYES ---------------------\n",
      "              precision    recall  f1-score   support\n",
      "\n",
      "           0       0.82      0.92      0.87       370\n",
      "           1       0.90      0.79      0.85       359\n",
      "\n",
      "    accuracy                           0.86       729\n",
      "   macro avg       0.86      0.86      0.86       729\n",
      "weighted avg       0.86      0.86      0.86       729\n",
      "\n",
      "\n",
      "\n",
      "---------------- SUPPORT VECTOR MACHINE ---------------\n",
      "              precision    recall  f1-score   support\n",
      "\n",
      "           0       0.88      0.89      0.89       370\n",
      "           1       0.89      0.87      0.88       359\n",
      "\n",
      "    accuracy                           0.88       729\n",
      "   macro avg       0.88      0.88      0.88       729\n",
      "weighted avg       0.88      0.88      0.88       729\n",
      "\n",
      "\n",
      "\n"
     ]
    }
   ],
   "source": [
    "print(\"\\n\")\n",
    "print(\"=======================================================\")\n",
    "print(\"                 CLASSIFICATION REPORT                 \")\n",
    "print(\"=======================================================\")\n",
    "print(\"\\n\")\n",
    "print(\"----------------- K-NEAREST NEIGHBOUR -----------------\")\n",
    "print(classification_report (Y_test, CM_predict))\n",
    "print(\"\\n\")\n",
    "print(\"-------------------- DESICION TREE --------------------\")\n",
    "print(classification_report (Y_test, CM_predict2))\n",
    "print(\"\\n\")\n",
    "print(\"--------------------- NAIVE BAYES ---------------------\")\n",
    "print(classification_report (Y_test, CM_predict3))\n",
    "print(\"\\n\")\n",
    "print(\"---------------- SUPPORT VECTOR MACHINE ---------------\")\n",
    "print(classification_report (Y_test, CM_predict4))\n",
    "print(\"\\n\")"
   ]
  },
  {
   "cell_type": "markdown",
   "id": "82d9159d-10ac-4e96-9883-5995a5cca56b",
   "metadata": {},
   "source": [
    "## TAMPILAN VISUALISASI DARI MODEL - MODEL UNTUK REGRESSION"
   ]
  },
  {
   "cell_type": "code",
   "execution_count": 46,
   "id": "d6048df3-7866-428a-a437-d24a74d97937",
   "metadata": {},
   "outputs": [],
   "source": [
    "from sklearn.metrics import mean_squared_error, mean_absolute_error"
   ]
  },
  {
   "cell_type": "code",
   "execution_count": 47,
   "id": "9ace7e17-dc90-42a8-8423-8550991e4a3b",
   "metadata": {},
   "outputs": [],
   "source": [
    "MSE = mean_squared_error(y_test, LR_predict)\n",
    "RMSE = mean_squared_error(y_test, LR_predict, squared = False)\n",
    "R2 = LR.score(x_test, y_test)\n",
    "MAE = mean_absolute_error(y_test, LR_predict)"
   ]
  },
  {
   "cell_type": "code",
   "execution_count": 48,
   "id": "98ea5c17-a716-4bef-be4a-0acb670880fc",
   "metadata": {},
   "outputs": [
    {
     "name": "stdout",
     "output_type": "stream",
     "text": [
      "\n",
      "\n",
      "===================================\n",
      "         REGRESSION REPORT         \n",
      "===================================\n",
      "\n",
      "\n",
      "Nilai MSE  :  1.523728841192048\n",
      "Nilai RMSE :  1.2343941190689658\n",
      "Nilai R2   :  0.10952495796673989\n",
      "Nilai MAE  :  0.9609426199647733\n",
      "\n",
      "\n"
     ]
    }
   ],
   "source": [
    "print(\"\\n\")\n",
    "print(\"===================================\")\n",
    "print(\"         REGRESSION REPORT         \")\n",
    "print(\"===================================\")\n",
    "print(\"\\n\")\n",
    "print(\"Nilai MSE  : \", MSE)\n",
    "print(\"Nilai RMSE : \", RMSE)\n",
    "print(\"Nilai R2   : \", R2)\n",
    "print(\"Nilai MAE  : \", MAE)\n",
    "print(\"\\n\")"
   ]
  }
 ],
 "metadata": {
  "kernelspec": {
   "display_name": "Python 3 (ipykernel)",
   "language": "python",
   "name": "python3"
  },
  "language_info": {
   "codemirror_mode": {
    "name": "ipython",
    "version": 3
   },
   "file_extension": ".py",
   "mimetype": "text/x-python",
   "name": "python",
   "nbconvert_exporter": "python",
   "pygments_lexer": "ipython3",
   "version": "3.10.7"
  }
 },
 "nbformat": 4,
 "nbformat_minor": 5
}
