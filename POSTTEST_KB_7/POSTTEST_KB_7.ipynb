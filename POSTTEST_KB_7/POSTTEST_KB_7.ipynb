{
 "cells": [
  {
   "cell_type": "markdown",
   "id": "8f323f90-015b-41c4-abed-0f50b07893c8",
   "metadata": {},
   "source": [
    "# POSTTEST 7\n",
    "\n",
    "## WANDA NURHALIZA\n",
    "## 2109106055"
   ]
  },
  {
   "cell_type": "markdown",
   "id": "517ed635-f277-43b7-8202-d42d3818dc5d",
   "metadata": {},
   "source": [
    "## IMPORT LIBRARY"
   ]
  },
  {
   "cell_type": "code",
   "execution_count": 1,
   "id": "d7fd7855-3b9a-4eb5-83b5-13738a3c9701",
   "metadata": {},
   "outputs": [],
   "source": [
    "import tensorflow as tf\n",
    "import numpy as np"
   ]
  },
  {
   "cell_type": "markdown",
   "id": "4451b680-63f4-4044-bfcc-bebf00c9c47a",
   "metadata": {},
   "source": [
    "## MEMBUAT SEBUAH TENSOR DENGAN SHAPE (5,5) DENGAN NILAI RANDOM YANG DISIMPAN DALAM VARIABLE RANDOM_TENSOR"
   ]
  },
  {
   "cell_type": "code",
   "execution_count": 2,
   "id": "0debcacf-2465-4800-b317-c79404cf7a37",
   "metadata": {},
   "outputs": [
    {
     "name": "stdout",
     "output_type": "stream",
     "text": [
      "tf.Tensor(\n",
      "[[3 1 4 2 3]\n",
      " [2 1 0 0 2]\n",
      " [4 0 1 3 4]\n",
      " [4 1 3 4 0]\n",
      " [2 4 0 3 4]], shape=(5, 5), dtype=int32)\n"
     ]
    }
   ],
   "source": [
    "random_tensor = tf.random.uniform([5,5], minval = 0, maxval = 5, dtype = tf.int32)\n",
    "random_tensor.numpy()\n",
    "print(random_tensor)"
   ]
  },
  {
   "cell_type": "markdown",
   "id": "19bae9ce-4546-4114-9245-5aa6199a5837",
   "metadata": {},
   "source": [
    "## MEMBUAT SEBUAH TENSOR DENGAN SHAPE (5,5) DARI SEBUAH LIST DENGAN NILAI BILANGAN PRIMA DALAM VARIABLE PRIME_TENSOR"
   ]
  },
  {
   "cell_type": "code",
   "execution_count": 3,
   "id": "e0562b3a-a6e8-41f3-b50d-47a6ceb0a9c0",
   "metadata": {},
   "outputs": [
    {
     "name": "stdout",
     "output_type": "stream",
     "text": [
      "tf.Tensor(\n",
      "[[ 2  4  6  8  9]\n",
      " [11 13 15 17 18]\n",
      " [20 23 26 28 30]\n",
      " [31 35 37 39 42]\n",
      " [47 53 39 62 65]], shape=(5, 5), dtype=int32)\n"
     ]
    }
   ],
   "source": [
    "prime_list = [[2, 4, 6, 8, 9], [11, 13, 15, 17, 18], [20, 23, 26, 28, 30], [31, 35, 37, 39, 42], [47, 53, 39, 62, 65]]\n",
    "prime_tensor = tf.convert_to_tensor(prime_list, dtype = tf.int32)\n",
    "prime_tensor.numpy()\n",
    "print(prime_tensor)"
   ]
  },
  {
   "cell_type": "markdown",
   "id": "0f999baa-c25b-4703-9d1d-b4e250ca6385",
   "metadata": {},
   "source": [
    "## MENAMPILKAN DIMENSI DARI KEDUA VARIABLE TERSEBUT"
   ]
  },
  {
   "cell_type": "markdown",
   "id": "c6eebf49-2546-45de-a72e-b8e210e3770d",
   "metadata": {},
   "source": [
    "##### MENAMPILKAN DIMENSI DARI VARIABLE RANDOM_TENSOR"
   ]
  },
  {
   "cell_type": "code",
   "execution_count": 4,
   "id": "84596ab6-2ee3-4d7c-8d5a-9c3e0cd63dd3",
   "metadata": {},
   "outputs": [
    {
     "name": "stdout",
     "output_type": "stream",
     "text": [
      "(5, 5)\n"
     ]
    }
   ],
   "source": [
    "print(random_tensor.shape)"
   ]
  },
  {
   "cell_type": "markdown",
   "id": "bc911e97-fae7-435b-9d1c-7a0abfa86897",
   "metadata": {},
   "source": [
    "##### MENAMPILKAN DIMENSI DARI VARIABLE PRIME_TENSOR"
   ]
  },
  {
   "cell_type": "code",
   "execution_count": 5,
   "id": "4e3a0799-8ec7-410e-956f-cf22aa4c88df",
   "metadata": {},
   "outputs": [
    {
     "name": "stdout",
     "output_type": "stream",
     "text": [
      "(5, 5)\n"
     ]
    }
   ],
   "source": [
    "print(prime_tensor.shape)"
   ]
  },
  {
   "cell_type": "markdown",
   "id": "ae3aa16d-7a38-4634-92fc-7832fdc828cb",
   "metadata": {},
   "source": [
    "## MENAMPILKAN HASIL DARI PERHITUNGAN ARITMETIKA 2 VARIABLE TERSEBUT"
   ]
  },
  {
   "cell_type": "markdown",
   "id": "aa721f55-6aa0-4a39-b944-9330f2d88166",
   "metadata": {},
   "source": [
    "##### PENJUMLAHAN"
   ]
  },
  {
   "cell_type": "code",
   "execution_count": 6,
   "id": "e0c0d423-c6c1-4953-96b2-92d899669d08",
   "metadata": {},
   "outputs": [
    {
     "name": "stdout",
     "output_type": "stream",
     "text": [
      "--- HASIL PENJUMLAHAN DARI RANDOM_TENSOR DAN PRIME_TENSOR --- \n",
      " [[ 5  5 10 10 12]\n",
      " [13 14 15 17 20]\n",
      " [24 23 27 31 34]\n",
      " [35 36 40 43 42]\n",
      " [49 57 39 65 69]]\n"
     ]
    }
   ],
   "source": [
    "hasil = tf.add(random_tensor, prime_tensor)\n",
    "print(f'--- HASIL PENJUMLAHAN DARI RANDOM_TENSOR DAN PRIME_TENSOR --- \\n {hasil}')"
   ]
  },
  {
   "cell_type": "markdown",
   "id": "9291f642-b637-4a28-8a81-c1e1e143b355",
   "metadata": {},
   "source": [
    "##### PENGURANGAN"
   ]
  },
  {
   "cell_type": "code",
   "execution_count": 7,
   "id": "7886acf8-dd06-4731-82e7-51a53377b6b6",
   "metadata": {},
   "outputs": [
    {
     "name": "stdout",
     "output_type": "stream",
     "text": [
      "--- HASIL PENGURANGAN DARI RANDOM_TENSOR DAN PRIME_TENSOR --- \n",
      " [[  1  -3  -2  -6  -6]\n",
      " [ -9 -12 -15 -17 -16]\n",
      " [-16 -23 -25 -25 -26]\n",
      " [-27 -34 -34 -35 -42]\n",
      " [-45 -49 -39 -59 -61]]\n"
     ]
    }
   ],
   "source": [
    "hasil = tf.subtract(random_tensor, prime_tensor)\n",
    "print(f'--- HASIL PENGURANGAN DARI RANDOM_TENSOR DAN PRIME_TENSOR --- \\n {hasil}')"
   ]
  },
  {
   "cell_type": "markdown",
   "id": "b4f46743-bade-4154-86b7-f375c1d1ba27",
   "metadata": {},
   "source": [
    "##### PERKALIAN"
   ]
  },
  {
   "cell_type": "code",
   "execution_count": 8,
   "id": "f0431dc4-0bd6-4bea-95d8-0c820637713c",
   "metadata": {},
   "outputs": [
    {
     "name": "stdout",
     "output_type": "stream",
     "text": [
      "--- HASIL PERKALIAN DARI RANDOM_TENSOR DAN PRIME_TENSOR --- \n",
      " [[  6   4  24  16  27]\n",
      " [ 22  13   0   0  36]\n",
      " [ 80   0  26  84 120]\n",
      " [124  35 111 156   0]\n",
      " [ 94 212   0 186 260]]\n"
     ]
    }
   ],
   "source": [
    "hasil = tf.multiply(random_tensor, prime_tensor)\n",
    "print(f'--- HASIL PERKALIAN DARI RANDOM_TENSOR DAN PRIME_TENSOR --- \\n {hasil}')"
   ]
  },
  {
   "cell_type": "markdown",
   "id": "ff227a55-a425-4946-8202-79bc6df259eb",
   "metadata": {},
   "source": [
    "##### PEMBAGIAN"
   ]
  },
  {
   "cell_type": "code",
   "execution_count": 9,
   "id": "6d7893a8-fa97-471c-8504-6bf90b4e57bc",
   "metadata": {},
   "outputs": [
    {
     "name": "stdout",
     "output_type": "stream",
     "text": [
      "--- HASIL PEMBAGIAN DARI RANDOM_TENSOR DAN PRIME_TENSOR --- \n",
      " [[1.5        0.25       0.66666667 0.25       0.33333333]\n",
      " [0.18181818 0.07692308 0.         0.         0.11111111]\n",
      " [0.2        0.         0.03846154 0.10714286 0.13333333]\n",
      " [0.12903226 0.02857143 0.08108108 0.1025641  0.        ]\n",
      " [0.04255319 0.0754717  0.         0.0483871  0.06153846]]\n"
     ]
    }
   ],
   "source": [
    "hasil = tf.divide(random_tensor, prime_tensor)\n",
    "print(f'--- HASIL PEMBAGIAN DARI RANDOM_TENSOR DAN PRIME_TENSOR --- \\n {hasil}')"
   ]
  },
  {
   "cell_type": "markdown",
   "id": "493f1ff4-4e18-4de5-95a6-a53cc0213a33",
   "metadata": {},
   "source": [
    "##### PERPANGKATAN"
   ]
  },
  {
   "cell_type": "code",
   "execution_count": 10,
   "id": "d78e534b-be5c-4226-b600-010a0501ba3a",
   "metadata": {},
   "outputs": [
    {
     "name": "stdout",
     "output_type": "stream",
     "text": [
      "--- HASIL PERPANGKATAN DARI RANDOM_TENSOR DAN PRIME_TENSOR --- \n",
      " [[          9           1        4096         256       19683]\n",
      " [       2048           1           0           0      262144]\n",
      " [          0           0           1  1796636465           0]\n",
      " [          0           1 -1565174669           0           0]\n",
      " [          0           0           0   703701817           0]]\n"
     ]
    }
   ],
   "source": [
    "hasil = tf.pow(random_tensor, prime_tensor)\n",
    "print(f'--- HASIL PERPANGKATAN DARI RANDOM_TENSOR DAN PRIME_TENSOR --- \\n {hasil}')"
   ]
  },
  {
   "cell_type": "markdown",
   "id": "abe3dbed-ba2d-4deb-bffd-796d1d58ec31",
   "metadata": {},
   "source": [
    "## MENAMPILKAN NILAI MAKSIMAL DAN MINIMAL DARI VARIABLE RANDOM_TENSOR"
   ]
  },
  {
   "cell_type": "code",
   "execution_count": 11,
   "id": "8ee11838-1ad1-4ff3-b19c-156000922159",
   "metadata": {},
   "outputs": [
    {
     "name": "stdout",
     "output_type": "stream",
     "text": [
      "NILAI MAKSIMAL DARI VARIABLE RANDOM_TENSOR : [2 4 0 3 2]\n"
     ]
    }
   ],
   "source": [
    "max_random_tensor = tf.argmax(random_tensor, axis = 0)\n",
    "print(\"NILAI MAKSIMAL DARI VARIABLE RANDOM_TENSOR :\", max_random_tensor.numpy())"
   ]
  },
  {
   "cell_type": "code",
   "execution_count": 12,
   "id": "c195e274-9935-4591-831f-bbbad445b242",
   "metadata": {},
   "outputs": [
    {
     "name": "stdout",
     "output_type": "stream",
     "text": [
      "NILAI MINIMUM DARI VARIABLE RANDOM_TENSOR : [1 2 1 1 3]\n"
     ]
    }
   ],
   "source": [
    "min_random_tensor = tf.argmin(random_tensor, axis = 0)\n",
    "print(\"NILAI MINIMUM DARI VARIABLE RANDOM_TENSOR :\", min_random_tensor.numpy())"
   ]
  },
  {
   "cell_type": "markdown",
   "id": "6710691b-f20f-4015-a813-231ef023ad0a",
   "metadata": {},
   "source": [
    "## MENAMPILKAN HASIL DARI PENGGABUNGAN VARIABLE RANDOM_TENSOR DENGAN PRIME_TENSOR (CONCATENATION)"
   ]
  },
  {
   "cell_type": "code",
   "execution_count": 13,
   "id": "58df6bf1-35bc-4a05-85a1-e527d3115a59",
   "metadata": {},
   "outputs": [
    {
     "name": "stdout",
     "output_type": "stream",
     "text": [
      "tf.Tensor(\n",
      "[[ 3  1  4  2  3]\n",
      " [ 2  1  0  0  2]\n",
      " [ 4  0  1  3  4]\n",
      " [ 4  1  3  4  0]\n",
      " [ 2  4  0  3  4]\n",
      " [ 2  4  6  8  9]\n",
      " [11 13 15 17 18]\n",
      " [20 23 26 28 30]\n",
      " [31 35 37 39 42]\n",
      " [47 53 39 62 65]], shape=(10, 5), dtype=int32)\n"
     ]
    }
   ],
   "source": [
    "concat = tf.concat([random_tensor, prime_tensor], axis = 0)\n",
    "concat.numpy()\n",
    "print(concat)"
   ]
  },
  {
   "cell_type": "markdown",
   "id": "b1299dfb-8058-417b-a16b-eef7252ea7da",
   "metadata": {},
   "source": [
    "## MENAMPILKAN HASIL SORTING DARI KEDUA VARIABLE DI ATAS (DESCENDING)"
   ]
  },
  {
   "cell_type": "markdown",
   "id": "2acf13c7-ae6e-4598-ae06-41e2b59d0ac5",
   "metadata": {},
   "source": [
    "##### HASIL SORTING DARI VARIABLE RANDOM_TENSOR"
   ]
  },
  {
   "cell_type": "code",
   "execution_count": 14,
   "id": "87d5afa3-9c97-44cf-8b8c-1e4b47808ed2",
   "metadata": {},
   "outputs": [
    {
     "data": {
      "text/plain": [
       "<tf.Tensor: shape=(5, 5), dtype=int32, numpy=\n",
       "array([[4, 3, 3, 2, 1],\n",
       "       [2, 2, 1, 0, 0],\n",
       "       [4, 4, 3, 1, 0],\n",
       "       [4, 4, 3, 1, 0],\n",
       "       [4, 4, 3, 2, 0]])>"
      ]
     },
     "execution_count": 14,
     "metadata": {},
     "output_type": "execute_result"
    }
   ],
   "source": [
    "tf.sort(random_tensor, direction = \"DESCENDING\")"
   ]
  },
  {
   "cell_type": "markdown",
   "id": "aec6bcc5-658b-4f9f-8236-0a84f7d81414",
   "metadata": {},
   "source": [
    "##### HASIL SORTING DARI VARIABLE PRIME_TENSOR"
   ]
  },
  {
   "cell_type": "code",
   "execution_count": 15,
   "id": "48657750-8ee3-4d1b-bc84-601be4b58874",
   "metadata": {},
   "outputs": [
    {
     "data": {
      "text/plain": [
       "<tf.Tensor: shape=(5, 5), dtype=int32, numpy=\n",
       "array([[ 9,  8,  6,  4,  2],\n",
       "       [18, 17, 15, 13, 11],\n",
       "       [30, 28, 26, 23, 20],\n",
       "       [42, 39, 37, 35, 31],\n",
       "       [65, 62, 53, 47, 39]])>"
      ]
     },
     "execution_count": 15,
     "metadata": {},
     "output_type": "execute_result"
    }
   ],
   "source": [
    "tf.sort(prime_tensor, direction = \"DESCENDING\")"
   ]
  },
  {
   "cell_type": "markdown",
   "id": "4cda69f6-8936-4ef5-8f92-3e0240d5575c",
   "metadata": {},
   "source": [
    "##### HASIL SORTING DARI GABUNGAN KEDUA VARIABLE"
   ]
  },
  {
   "cell_type": "code",
   "execution_count": 16,
   "id": "f004fecd-453f-4448-9c55-9467f753aa25",
   "metadata": {},
   "outputs": [
    {
     "data": {
      "text/plain": [
       "<tf.Tensor: shape=(10, 5), dtype=int32, numpy=\n",
       "array([[ 4,  3,  3,  2,  1],\n",
       "       [ 2,  2,  1,  0,  0],\n",
       "       [ 4,  4,  3,  1,  0],\n",
       "       [ 4,  4,  3,  1,  0],\n",
       "       [ 4,  4,  3,  2,  0],\n",
       "       [ 9,  8,  6,  4,  2],\n",
       "       [18, 17, 15, 13, 11],\n",
       "       [30, 28, 26, 23, 20],\n",
       "       [42, 39, 37, 35, 31],\n",
       "       [65, 62, 53, 47, 39]])>"
      ]
     },
     "execution_count": 16,
     "metadata": {},
     "output_type": "execute_result"
    }
   ],
   "source": [
    "tf.sort(concat, direction = \"DESCENDING\")"
   ]
  }
 ],
 "metadata": {
  "kernelspec": {
   "display_name": "Python 3 (ipykernel)",
   "language": "python",
   "name": "python3"
  },
  "language_info": {
   "codemirror_mode": {
    "name": "ipython",
    "version": 3
   },
   "file_extension": ".py",
   "mimetype": "text/x-python",
   "name": "python",
   "nbconvert_exporter": "python",
   "pygments_lexer": "ipython3",
   "version": "3.10.7"
  }
 },
 "nbformat": 4,
 "nbformat_minor": 5
}
