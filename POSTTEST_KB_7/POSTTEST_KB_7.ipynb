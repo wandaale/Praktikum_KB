{
 "cells": [
  {
   "cell_type": "markdown",
   "id": "8f323f90-015b-41c4-abed-0f50b07893c8",
   "metadata": {},
   "source": [
    "# POSTTEST 7\n",
    "\n",
    "## WANDA NURHALIZA\n",
    "## 2109106055"
   ]
  },
  {
   "cell_type": "markdown",
   "id": "517ed635-f277-43b7-8202-d42d3818dc5d",
   "metadata": {},
   "source": [
    "## IMPORT LIBRARY"
   ]
  },
  {
   "cell_type": "code",
   "execution_count": 1,
   "id": "d7fd7855-3b9a-4eb5-83b5-13738a3c9701",
   "metadata": {},
   "outputs": [],
   "source": [
    "import tensorflow as tf\n",
    "import numpy as np"
   ]
  },
  {
   "cell_type": "markdown",
   "id": "4451b680-63f4-4044-bfcc-bebf00c9c47a",
   "metadata": {},
   "source": [
    "## MEMBUAT SEBUAH TENSOR DENGAN SHAPE (5,5) DENGAN NILAI RANDOM YANG DISIMPAN DALAM VARIABLE RANDOM_TENSOR"
   ]
  },
  {
   "cell_type": "code",
   "execution_count": 2,
   "id": "0debcacf-2465-4800-b317-c79404cf7a37",
   "metadata": {},
   "outputs": [
    {
     "name": "stdout",
     "output_type": "stream",
     "text": [
      "tf.Tensor(\n",
      "[[1 0 4 3 3]\n",
      " [3 4 0 3 3]\n",
      " [0 4 1 2 3]\n",
      " [4 4 2 4 2]\n",
      " [3 0 4 1 1]], shape=(5, 5), dtype=int32)\n"
     ]
    }
   ],
   "source": [
    "random_tensor = tf.random.uniform([5,5], minval = 0, maxval = 5, dtype = tf.int32)\n",
    "random_tensor.numpy()\n",
    "print(random_tensor)"
   ]
  },
  {
   "cell_type": "markdown",
   "id": "19bae9ce-4546-4114-9245-5aa6199a5837",
   "metadata": {},
   "source": [
    "## MEMBUAT SEBUAH TENSOR DENGAN SHAPE (5,5) DARI SEBUAH LIST DENGAN NILAI BILANGAN PRIMA DALAM VARIABLE PRIME_TENSOR"
   ]
  },
  {
   "cell_type": "code",
   "execution_count": 3,
   "id": "e0562b3a-a6e8-41f3-b50d-47a6ceb0a9c0",
   "metadata": {},
   "outputs": [
    {
     "name": "stdout",
     "output_type": "stream",
     "text": [
      "tf.Tensor(\n",
      "[[ 2 34  5  7 11]\n",
      " [13 17 19 23 29]\n",
      " [31 37 41 43 47]\n",
      " [53 59 61 67 71]\n",
      " [73 79 83 89 97]], shape=(5, 5), dtype=int32)\n"
     ]
    }
   ],
   "source": [
    "prime_list = [[2, 34, 5, 7, 11], [13, 17, 19, 23, 29], [31, 37, 41, 43, 47], [53, 59, 61, 67, 71], [73, 79, 83, 89, 97]]\n",
    "prime_tensor = tf.convert_to_tensor(prime_list, dtype = tf.int32)\n",
    "prime_tensor.numpy()\n",
    "print(prime_tensor)"
   ]
  },
  {
   "cell_type": "markdown",
   "id": "0f999baa-c25b-4703-9d1d-b4e250ca6385",
   "metadata": {},
   "source": [
    "## MENAMPILKAN DIMENSI DARI KEDUA VARIABLE TERSEBUT"
   ]
  },
  {
   "cell_type": "markdown",
   "id": "c6eebf49-2546-45de-a72e-b8e210e3770d",
   "metadata": {},
   "source": [
    "##### MENAMPILKAN DIMENSI DARI VARIABLE RANDOM_TENSOR"
   ]
  },
  {
   "cell_type": "code",
   "execution_count": 4,
   "id": "84596ab6-2ee3-4d7c-8d5a-9c3e0cd63dd3",
   "metadata": {},
   "outputs": [
    {
     "name": "stdout",
     "output_type": "stream",
     "text": [
      "(5, 5)\n"
     ]
    }
   ],
   "source": [
    "print(random_tensor.shape)"
   ]
  },
  {
   "cell_type": "markdown",
   "id": "bc911e97-fae7-435b-9d1c-7a0abfa86897",
   "metadata": {},
   "source": [
    "##### MENAMPILKAN DIMENSI DARI VARIABLE PRIME_TENSOR"
   ]
  },
  {
   "cell_type": "code",
   "execution_count": 5,
   "id": "4e3a0799-8ec7-410e-956f-cf22aa4c88df",
   "metadata": {},
   "outputs": [
    {
     "name": "stdout",
     "output_type": "stream",
     "text": [
      "(5, 5)\n"
     ]
    }
   ],
   "source": [
    "print(prime_tensor.shape)"
   ]
  },
  {
   "cell_type": "markdown",
   "id": "ae3aa16d-7a38-4634-92fc-7832fdc828cb",
   "metadata": {},
   "source": [
    "## MENAMPILKAN HASIL DARI PERHITUNGAN ARITMETIKA 2 VARIABLE TERSEBUT"
   ]
  },
  {
   "cell_type": "markdown",
   "id": "aa721f55-6aa0-4a39-b944-9330f2d88166",
   "metadata": {},
   "source": [
    "##### PENJUMLAHAN"
   ]
  },
  {
   "cell_type": "code",
   "execution_count": 6,
   "id": "e0c0d423-c6c1-4953-96b2-92d899669d08",
   "metadata": {},
   "outputs": [
    {
     "name": "stdout",
     "output_type": "stream",
     "text": [
      "--- HASIL PENJUMLAHAN DARI RANDOM_TENSOR DAN PRIME_TENSOR --- \n",
      " [[ 3 34  9 10 14]\n",
      " [16 21 19 26 32]\n",
      " [31 41 42 45 50]\n",
      " [57 63 63 71 73]\n",
      " [76 79 87 90 98]]\n"
     ]
    }
   ],
   "source": [
    "hasil = tf.add(random_tensor, prime_tensor)\n",
    "print(f'--- HASIL PENJUMLAHAN DARI RANDOM_TENSOR DAN PRIME_TENSOR --- \\n {hasil}')"
   ]
  },
  {
   "cell_type": "markdown",
   "id": "9291f642-b637-4a28-8a81-c1e1e143b355",
   "metadata": {},
   "source": [
    "##### PENGURANGAN"
   ]
  },
  {
   "cell_type": "code",
   "execution_count": 7,
   "id": "7886acf8-dd06-4731-82e7-51a53377b6b6",
   "metadata": {},
   "outputs": [
    {
     "name": "stdout",
     "output_type": "stream",
     "text": [
      "--- HASIL PENGURANGAN DARI RANDOM_TENSOR DAN PRIME_TENSOR --- \n",
      " [[ -1 -34  -1  -4  -8]\n",
      " [-10 -13 -19 -20 -26]\n",
      " [-31 -33 -40 -41 -44]\n",
      " [-49 -55 -59 -63 -69]\n",
      " [-70 -79 -79 -88 -96]]\n"
     ]
    }
   ],
   "source": [
    "hasil = tf.subtract(random_tensor, prime_tensor)\n",
    "print(f'--- HASIL PENGURANGAN DARI RANDOM_TENSOR DAN PRIME_TENSOR --- \\n {hasil}')"
   ]
  },
  {
   "cell_type": "markdown",
   "id": "b4f46743-bade-4154-86b7-f375c1d1ba27",
   "metadata": {},
   "source": [
    "##### PERKALIAN"
   ]
  },
  {
   "cell_type": "code",
   "execution_count": 8,
   "id": "f0431dc4-0bd6-4bea-95d8-0c820637713c",
   "metadata": {},
   "outputs": [
    {
     "name": "stdout",
     "output_type": "stream",
     "text": [
      "--- HASIL PERKALIAN DARI RANDOM_TENSOR DAN PRIME_TENSOR --- \n",
      " [[  2   0  20  21  33]\n",
      " [ 39  68   0  69  87]\n",
      " [  0 148  41  86 141]\n",
      " [212 236 122 268 142]\n",
      " [219   0 332  89  97]]\n"
     ]
    }
   ],
   "source": [
    "hasil = tf.multiply(random_tensor, prime_tensor)\n",
    "print(f'--- HASIL PERKALIAN DARI RANDOM_TENSOR DAN PRIME_TENSOR --- \\n {hasil}')"
   ]
  },
  {
   "cell_type": "markdown",
   "id": "ff227a55-a425-4946-8202-79bc6df259eb",
   "metadata": {},
   "source": [
    "##### PEMBAGIAN"
   ]
  },
  {
   "cell_type": "code",
   "execution_count": 9,
   "id": "6d7893a8-fa97-471c-8504-6bf90b4e57bc",
   "metadata": {},
   "outputs": [
    {
     "name": "stdout",
     "output_type": "stream",
     "text": [
      "--- HASIL PEMBAGIAN DARI RANDOM_TENSOR DAN PRIME_TENSOR --- \n",
      " [[0.5        0.         0.8        0.42857143 0.27272727]\n",
      " [0.23076923 0.23529412 0.         0.13043478 0.10344828]\n",
      " [0.         0.10810811 0.02439024 0.04651163 0.06382979]\n",
      " [0.0754717  0.06779661 0.03278689 0.05970149 0.02816901]\n",
      " [0.04109589 0.         0.04819277 0.01123596 0.01030928]]\n"
     ]
    }
   ],
   "source": [
    "hasil = tf.divide(random_tensor, prime_tensor)\n",
    "print(f'--- HASIL PEMBAGIAN DARI RANDOM_TENSOR DAN PRIME_TENSOR --- \\n {hasil}')"
   ]
  },
  {
   "cell_type": "markdown",
   "id": "493f1ff4-4e18-4de5-95a6-a53cc0213a33",
   "metadata": {},
   "source": [
    "##### PERPANGKATAN"
   ]
  },
  {
   "cell_type": "code",
   "execution_count": 10,
   "id": "d78e534b-be5c-4226-b600-010a0501ba3a",
   "metadata": {},
   "outputs": [
    {
     "name": "stdout",
     "output_type": "stream",
     "text": [
      "--- HASIL PERPANGKATAN DARI RANDOM_TENSOR DAN PRIME_TENSOR --- \n",
      " [[         1          0       1024       2187     177147]\n",
      " [   1594323          0          0 -346101685 1094942099]\n",
      " [         0          0          1          0 1402212843]\n",
      " [         0          0          0          0          0]\n",
      " [1534976995          0          0          1          1]]\n"
     ]
    }
   ],
   "source": [
    "hasil = tf.pow(random_tensor, prime_tensor)\n",
    "print(f'--- HASIL PERPANGKATAN DARI RANDOM_TENSOR DAN PRIME_TENSOR --- \\n {hasil}')"
   ]
  },
  {
   "cell_type": "markdown",
   "id": "abe3dbed-ba2d-4deb-bffd-796d1d58ec31",
   "metadata": {},
   "source": [
    "## MENAMPILKAN NILAI MAKSIMAL DAN MINIMAL DARI VARIABLE RANDOM_TENSOR"
   ]
  },
  {
   "cell_type": "code",
   "execution_count": 11,
   "id": "8ee11838-1ad1-4ff3-b19c-156000922159",
   "metadata": {},
   "outputs": [
    {
     "name": "stdout",
     "output_type": "stream",
     "text": [
      "NILAI MAKSIMAL DARI VARIABLE RANDOM_TENSOR : [3 1 0 3 0]\n"
     ]
    }
   ],
   "source": [
    "max_random_tensor = tf.argmax(random_tensor, axis = 0)\n",
    "print(\"NILAI MAKSIMAL DARI VARIABLE RANDOM_TENSOR :\", max_random_tensor.numpy())"
   ]
  },
  {
   "cell_type": "code",
   "execution_count": 12,
   "id": "c195e274-9935-4591-831f-bbbad445b242",
   "metadata": {},
   "outputs": [
    {
     "name": "stdout",
     "output_type": "stream",
     "text": [
      "NILAI MINIMUM DARI VARIABLE RANDOM_TENSOR : [2 0 1 4 4]\n"
     ]
    }
   ],
   "source": [
    "min_random_tensor = tf.argmin(random_tensor, axis = 0)\n",
    "print(\"NILAI MINIMUM DARI VARIABLE RANDOM_TENSOR :\", min_random_tensor.numpy())"
   ]
  },
  {
   "cell_type": "markdown",
   "id": "6710691b-f20f-4015-a813-231ef023ad0a",
   "metadata": {},
   "source": [
    "## MENAMPILKAN HASIL DARI PENGGABUNGAN VARIABLE RANDOM_TENSOR DENGAN PRIME_TENSOR (CONCATENATION)"
   ]
  },
  {
   "cell_type": "code",
   "execution_count": 13,
   "id": "58df6bf1-35bc-4a05-85a1-e527d3115a59",
   "metadata": {},
   "outputs": [
    {
     "name": "stdout",
     "output_type": "stream",
     "text": [
      "tf.Tensor(\n",
      "[[ 1  0  4  3  3]\n",
      " [ 3  4  0  3  3]\n",
      " [ 0  4  1  2  3]\n",
      " [ 4  4  2  4  2]\n",
      " [ 3  0  4  1  1]\n",
      " [ 2 34  5  7 11]\n",
      " [13 17 19 23 29]\n",
      " [31 37 41 43 47]\n",
      " [53 59 61 67 71]\n",
      " [73 79 83 89 97]], shape=(10, 5), dtype=int32)\n"
     ]
    }
   ],
   "source": [
    "concat = tf.concat([random_tensor, prime_tensor], axis = 0)\n",
    "concat.numpy()\n",
    "print(concat)"
   ]
  },
  {
   "cell_type": "markdown",
   "id": "b1299dfb-8058-417b-a16b-eef7252ea7da",
   "metadata": {},
   "source": [
    "## MENAMPILKAN HASIL SORTING DARI KEDUA VARIABLE DI ATAS (DESCENDING)"
   ]
  },
  {
   "cell_type": "markdown",
   "id": "2acf13c7-ae6e-4598-ae06-41e2b59d0ac5",
   "metadata": {},
   "source": [
    "##### HASIL SORTING DARI VARIABLE RANDOM_TENSOR"
   ]
  },
  {
   "cell_type": "code",
   "execution_count": 14,
   "id": "87d5afa3-9c97-44cf-8b8c-1e4b47808ed2",
   "metadata": {},
   "outputs": [
    {
     "data": {
      "text/plain": [
       "<tf.Tensor: shape=(5, 5), dtype=int32, numpy=\n",
       "array([[4, 3, 3, 1, 0],\n",
       "       [4, 3, 3, 3, 0],\n",
       "       [4, 3, 2, 1, 0],\n",
       "       [4, 4, 4, 2, 2],\n",
       "       [4, 3, 1, 1, 0]])>"
      ]
     },
     "execution_count": 14,
     "metadata": {},
     "output_type": "execute_result"
    }
   ],
   "source": [
    "tf.sort(random_tensor, direction = \"DESCENDING\")"
   ]
  },
  {
   "cell_type": "markdown",
   "id": "aec6bcc5-658b-4f9f-8236-0a84f7d81414",
   "metadata": {},
   "source": [
    "##### HASIL SORTING DARI VARIABLE PRIME_TENSOR"
   ]
  },
  {
   "cell_type": "code",
   "execution_count": 15,
   "id": "48657750-8ee3-4d1b-bc84-601be4b58874",
   "metadata": {},
   "outputs": [
    {
     "data": {
      "text/plain": [
       "<tf.Tensor: shape=(5, 5), dtype=int32, numpy=\n",
       "array([[34, 11,  7,  5,  2],\n",
       "       [29, 23, 19, 17, 13],\n",
       "       [47, 43, 41, 37, 31],\n",
       "       [71, 67, 61, 59, 53],\n",
       "       [97, 89, 83, 79, 73]])>"
      ]
     },
     "execution_count": 15,
     "metadata": {},
     "output_type": "execute_result"
    }
   ],
   "source": [
    "tf.sort(prime_tensor, direction = \"DESCENDING\")"
   ]
  },
  {
   "cell_type": "markdown",
   "id": "4cda69f6-8936-4ef5-8f92-3e0240d5575c",
   "metadata": {},
   "source": [
    "##### HASIL SORTING DARI GABUNGAN KEDUA VARIABLE"
   ]
  },
  {
   "cell_type": "code",
   "execution_count": 16,
   "id": "f004fecd-453f-4448-9c55-9467f753aa25",
   "metadata": {},
   "outputs": [
    {
     "data": {
      "text/plain": [
       "<tf.Tensor: shape=(10, 5), dtype=int32, numpy=\n",
       "array([[ 4,  3,  3,  1,  0],\n",
       "       [ 4,  3,  3,  3,  0],\n",
       "       [ 4,  3,  2,  1,  0],\n",
       "       [ 4,  4,  4,  2,  2],\n",
       "       [ 4,  3,  1,  1,  0],\n",
       "       [34, 11,  7,  5,  2],\n",
       "       [29, 23, 19, 17, 13],\n",
       "       [47, 43, 41, 37, 31],\n",
       "       [71, 67, 61, 59, 53],\n",
       "       [97, 89, 83, 79, 73]])>"
      ]
     },
     "execution_count": 16,
     "metadata": {},
     "output_type": "execute_result"
    }
   ],
   "source": [
    "tf.sort(concat, direction = \"DESCENDING\")"
   ]
  }
 ],
 "metadata": {
  "kernelspec": {
   "display_name": "Python 3 (ipykernel)",
   "language": "python",
   "name": "python3"
  },
  "language_info": {
   "codemirror_mode": {
    "name": "ipython",
    "version": 3
   },
   "file_extension": ".py",
   "mimetype": "text/x-python",
   "name": "python",
   "nbconvert_exporter": "python",
   "pygments_lexer": "ipython3",
   "version": "3.10.7"
  }
 },
 "nbformat": 4,
 "nbformat_minor": 5
}
